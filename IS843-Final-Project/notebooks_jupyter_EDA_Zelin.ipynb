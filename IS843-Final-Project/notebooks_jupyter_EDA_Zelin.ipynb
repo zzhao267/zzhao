{
 "cells": [
  {
   "cell_type": "markdown",
   "id": "391e06e8-2bd8-4a55-a72b-899fce51e0c7",
   "metadata": {},
   "source": [
    "# IS 843 Final Project\n",
    "\n",
    "## Name: Zelin (Zack) Zhao\n",
    "\n",
    "# Data Analysis Question: \n",
    "\n",
    "### a) How does the duration (strength) of severe storms affect the Citibike usages in NYC from 2013-2018?\n",
    "\n",
    "### b) How do the severe storms affect Citibike uses in different stations differently? "
   ]
  },
  {
   "cell_type": "markdown",
   "id": "69111a18-dc5a-4bbc-9fae-79cb17105a3d",
   "metadata": {},
   "source": [
    "# Data Loading"
   ]
  },
  {
   "cell_type": "code",
   "execution_count": 1,
   "id": "0253f2c4-a9a3-4a8f-b9cf-ea68a8a0c402",
   "metadata": {},
   "outputs": [],
   "source": [
    "from pyspark.sql import functions as F\n",
    "from pyspark.sql.types import (StructType, \n",
    "                               StructField, \n",
    "                               DateType, \n",
    "                               BooleanType,\n",
    "                               DoubleType,\n",
    "                               IntegerType,\n",
    "                               StringType,\n",
    "                               LongType,\n",
    "                               FloatType,\n",
    "                              TimestampType)"
   ]
  },
  {
   "cell_type": "markdown",
   "id": "d64d7d65-ef36-4967-970d-b401b1201698",
   "metadata": {},
   "source": [
    "### load the citibike_trips table"
   ]
  },
  {
   "cell_type": "code",
   "execution_count": 2,
   "id": "ffd3486c-3e3b-4773-8805-58c98fb94798",
   "metadata": {},
   "outputs": [
    {
     "name": "stdout",
     "output_type": "stream",
     "text": [
      "root\n",
      " |-- tripduration: long (nullable = true)\n",
      " |-- starttime: string (nullable = true)\n",
      " |-- stoptime: string (nullable = true)\n",
      " |-- start_station_id: long (nullable = true)\n",
      " |-- start_station_name: string (nullable = true)\n",
      " |-- start_station_latitude: double (nullable = true)\n",
      " |-- start_station_longitude: double (nullable = true)\n",
      " |-- end_station_id: long (nullable = true)\n",
      " |-- end_station_name: string (nullable = true)\n",
      " |-- end_station_latitude: double (nullable = true)\n",
      " |-- end_station_longitude: double (nullable = true)\n",
      " |-- bikeid: long (nullable = true)\n",
      " |-- usertype: string (nullable = true)\n",
      " |-- birth_year: long (nullable = true)\n",
      " |-- gender: string (nullable = true)\n",
      " |-- customer_plan: string (nullable = true)\n",
      "\n"
     ]
    }
   ],
   "source": [
    "trips = spark.read.format('bigquery').option('table', 'bigquery-public-data:new_york_citibike.citibike_trips').option('header', \"true\").load()\n",
    "trips.printSchema()"
   ]
  },
  {
   "cell_type": "markdown",
   "id": "15854426-0b38-4883-9053-4758713043c0",
   "metadata": {},
   "source": [
    "### load the citibike_stations table"
   ]
  },
  {
   "cell_type": "code",
   "execution_count": 3,
   "id": "9c43f50d-4389-44e6-a73b-db9f8d0f357e",
   "metadata": {},
   "outputs": [
    {
     "name": "stdout",
     "output_type": "stream",
     "text": [
      "root\n",
      " |-- station_id: string (nullable = false)\n",
      " |-- name: string (nullable = true)\n",
      " |-- short_name: string (nullable = true)\n",
      " |-- latitude: double (nullable = true)\n",
      " |-- longitude: double (nullable = true)\n",
      " |-- region_id: long (nullable = true)\n",
      " |-- rental_methods: string (nullable = true)\n",
      " |-- capacity: long (nullable = true)\n",
      " |-- eightd_has_key_dispenser: boolean (nullable = true)\n",
      " |-- num_bikes_available: long (nullable = true)\n",
      " |-- num_bikes_disabled: long (nullable = true)\n",
      " |-- num_docks_available: long (nullable = true)\n",
      " |-- num_docks_disabled: long (nullable = true)\n",
      " |-- is_installed: boolean (nullable = true)\n",
      " |-- is_renting: boolean (nullable = true)\n",
      " |-- is_returning: boolean (nullable = true)\n",
      " |-- eightd_has_available_keys: boolean (nullable = true)\n",
      " |-- last_reported: timestamp (nullable = true)\n",
      "\n"
     ]
    }
   ],
   "source": [
    "stations = spark.read.format('bigquery').option('table', 'bigquery-public-data:new_york_citibike.citibike_stations').option('header', \"true\").load()\n",
    "stations.printSchema()"
   ]
  },
  {
   "cell_type": "markdown",
   "id": "dbd012ce-3658-40a6-b10e-88d617c6c219",
   "metadata": {},
   "source": [
    "### load the storms_20** table"
   ]
  },
  {
   "cell_type": "code",
   "execution_count": 4,
   "id": "86cf0f5a-4630-4b20-9b01-9867784b40ae",
   "metadata": {},
   "outputs": [],
   "source": [
    "storms_2013 = spark.read.format('bigquery').option('table', 'bigquery-public-data.noaa_historic_severe_storms.storms_2013').option('header', \"true\").load()\n",
    "storms_2014 = spark.read.format('bigquery').option('table', 'bigquery-public-data.noaa_historic_severe_storms.storms_2014').option('header', \"true\").load()\n",
    "storms_2015 = spark.read.format('bigquery').option('table', 'bigquery-public-data.noaa_historic_severe_storms.storms_2015').option('header', \"true\").load()\n",
    "storms_2016 = spark.read.format('bigquery').option('table', 'bigquery-public-data.noaa_historic_severe_storms.storms_2016').option('header', \"true\").load()\n",
    "storms_2017 = spark.read.format('bigquery').option('table', 'bigquery-public-data.noaa_historic_severe_storms.storms_2017').option('header', \"true\").load()\n",
    "storms_2018 = spark.read.format('bigquery').option('table', 'bigquery-public-data.noaa_historic_severe_storms.storms_2018').option('header', \"true\").load()"
   ]
  },
  {
   "cell_type": "code",
   "execution_count": 5,
   "id": "05aed194-83c5-4fb0-b071-57294f9911f9",
   "metadata": {},
   "outputs": [
    {
     "name": "stdout",
     "output_type": "stream",
     "text": [
      "root\n",
      " |-- episode_id: string (nullable = true)\n",
      " |-- event_id: string (nullable = true)\n",
      " |-- state: string (nullable = true)\n",
      " |-- state_fips_code: string (nullable = true)\n",
      " |-- event_type: string (nullable = true)\n",
      " |-- cz_type: string (nullable = true)\n",
      " |-- cz_fips_code: string (nullable = true)\n",
      " |-- cz_name: string (nullable = true)\n",
      " |-- wfo: string (nullable = true)\n",
      " |-- event_begin_time: string (nullable = true)\n",
      " |-- event_timezone: string (nullable = true)\n",
      " |-- event_end_time: string (nullable = true)\n",
      " |-- injuries_direct: long (nullable = true)\n",
      " |-- injuries_indirect: long (nullable = true)\n",
      " |-- deaths_direct: long (nullable = true)\n",
      " |-- deaths_indirect: long (nullable = true)\n",
      " |-- damage_property: long (nullable = true)\n",
      " |-- damage_crops: long (nullable = true)\n",
      " |-- source: string (nullable = true)\n",
      " |-- magnitude: double (nullable = true)\n",
      " |-- magnitude_type: string (nullable = true)\n",
      " |-- flood_cause: string (nullable = true)\n",
      " |-- tor_f_scale: string (nullable = true)\n",
      " |-- tor_length: string (nullable = true)\n",
      " |-- tor_width: string (nullable = true)\n",
      " |-- tor_other_wfo: string (nullable = true)\n",
      " |-- location_index: string (nullable = true)\n",
      " |-- event_range: double (nullable = true)\n",
      " |-- event_azimuth: string (nullable = true)\n",
      " |-- reference_location: string (nullable = true)\n",
      " |-- event_latitude: double (nullable = true)\n",
      " |-- event_longitude: double (nullable = true)\n",
      " |-- event_point: string (nullable = true)\n",
      "\n"
     ]
    }
   ],
   "source": [
    "storms = storms_2013.union(storms_2014).union(storms_2015).union(storms_2016).union(storms_2017).union(storms_2018)\n",
    "storms.printSchema()"
   ]
  },
  {
   "cell_type": "markdown",
   "id": "e38b4961-0f32-44a1-9744-59f2188104f7",
   "metadata": {},
   "source": [
    "# Data Cleaning"
   ]
  },
  {
   "cell_type": "markdown",
   "id": "89a6bfe1-fa36-44ee-94bb-0cb99f0b173f",
   "metadata": {},
   "source": [
    "### Clean the trips Dataframe"
   ]
  },
  {
   "cell_type": "code",
   "execution_count": 6,
   "id": "b21ccfc9-2dc5-4660-bf14-403ab053163d",
   "metadata": {},
   "outputs": [],
   "source": [
    "trips = trips.withColumn(\"starttime\", F.col(\"starttime\").cast(\"timestamp\"))\n",
    "trips = trips.withColumn(\"stoptime\", F.col(\"stoptime\").cast(\"timestamp\"))"
   ]
  },
  {
   "cell_type": "code",
   "execution_count": 7,
   "id": "af7b65ba-607a-4177-905c-19e6e4af07dd",
   "metadata": {},
   "outputs": [],
   "source": [
    "trips = trips.na.drop(subset=[\"tripduration\",\"start_station_latitude\",\"start_station_longitude\",\"end_station_latitude\",\"end_station_longitude\"])"
   ]
  },
  {
   "cell_type": "code",
   "execution_count": 8,
   "id": "5814c62c-7ff3-4869-ad66-d73ccebc8174",
   "metadata": {},
   "outputs": [],
   "source": [
    "# FIXME: drop 138 rows out of 53108721\n",
    "trips = trips.filter((F.col(\"start_station_latitude\") != 0.0) \\\n",
    "                     & (F.col(\"start_station_longitude\") != 0.0) \\\n",
    "                     & (F.col(\"end_station_latitude\") != 0.0) \\\n",
    "                     & (F.col(\"end_station_longitude\") != 0.0))"
   ]
  },
  {
   "cell_type": "code",
   "execution_count": 9,
   "id": "970d530d-4691-4f7f-985b-51573e0f2a00",
   "metadata": {},
   "outputs": [],
   "source": [
    "#FIXME: what is this used for?\n",
    "#nyc_bikes = nyc_bikes.repartition(20)"
   ]
  },
  {
   "cell_type": "code",
   "execution_count": 10,
   "id": "4f28d028-5e0b-4992-b4e2-bad001dde7f3",
   "metadata": {},
   "outputs": [],
   "source": [
    "trips = trips.drop('end_station_id','end_station_name','end_station_latitude','end_station_longitude','bikeid', 'usertype','birth_year','gender','customer_plan')"
   ]
  },
  {
   "cell_type": "code",
   "execution_count": 11,
   "id": "00f8098d-ef6d-4ce9-98ad-e4408de9edb4",
   "metadata": {},
   "outputs": [
    {
     "name": "stdout",
     "output_type": "stream",
     "text": [
      "root\n",
      " |-- tripduration: long (nullable = true)\n",
      " |-- starttime: timestamp (nullable = true)\n",
      " |-- stoptime: timestamp (nullable = true)\n",
      " |-- start_station_id: long (nullable = true)\n",
      " |-- start_station_name: string (nullable = true)\n",
      " |-- start_station_latitude: double (nullable = true)\n",
      " |-- start_station_longitude: double (nullable = true)\n",
      "\n"
     ]
    }
   ],
   "source": [
    "trips.printSchema()"
   ]
  },
  {
   "cell_type": "code",
   "execution_count": 12,
   "id": "9da8d5a3-5749-498a-acd1-3aa22f7408e9",
   "metadata": {},
   "outputs": [
    {
     "name": "stderr",
     "output_type": "stream",
     "text": [
      "[Stage 0:>                                                          (0 + 1) / 1]\r"
     ]
    },
    {
     "name": "stdout",
     "output_type": "stream",
     "text": [
      "+------------+--------------------+--------------------+----------------+------------------+----------------------+-----------------------+\n",
      "|tripduration|           starttime|            stoptime|start_station_id|start_station_name|start_station_latitude|start_station_longitude|\n",
      "+------------+--------------------+--------------------+----------------+------------------+----------------------+-----------------------+\n",
      "|        1894| 2014-07-31 23:46:38| 2014-08-01 00:18:12|             520|   W 52 St & 5 Ave|           40.75992262|           -73.97648516|\n",
      "|         949| 2014-12-11 11:35:12| 2014-12-11 11:51:01|             520|   W 52 St & 5 Ave|           40.75992262|           -73.97648516|\n",
      "|         660| 2017-07-23 17:58:27| 2017-07-23 18:09:27|             520|   W 52 St & 5 Ave|           40.75992262|           -73.97648516|\n",
      "|         262| 2015-08-23 11:13:12| 2015-08-23 11:17:34|             520|   W 52 St & 5 Ave|           40.75992262|           -73.97648516|\n",
      "|         127| 2016-09-17 17:03:05| 2016-09-17 17:05:12|             520|   W 52 St & 5 Ave|           40.75992262|           -73.97648516|\n",
      "|        3823| 2016-04-01 14:36:02| 2016-04-01 15:39:46|             520|   W 52 St & 5 Ave|           40.75992262|           -73.97648516|\n",
      "|         567| 2015-09-19 13:47:08| 2015-09-19 13:56:35|             520|   W 52 St & 5 Ave|           40.75992262|           -73.97648516|\n",
      "|        2597| 2014-08-18 14:25:53| 2014-08-18 15:09:10|             520|   W 52 St & 5 Ave|           40.75992262|           -73.97648516|\n",
      "|        1357| 2014-10-11 15:12:21| 2014-10-11 15:34:58|             520|   W 52 St & 5 Ave|           40.75992262|           -73.97648516|\n",
      "|         533| 2016-04-22 18:57:08| 2016-04-22 19:06:01|             520|   W 52 St & 5 Ave|           40.75992262|           -73.97648516|\n",
      "|         285| 2014-08-30 16:35:02| 2014-08-30 16:39:47|             520|   W 52 St & 5 Ave|           40.75992262|           -73.97648516|\n",
      "|        1901| 2013-09-17 12:27:37| 2013-09-17 12:59:18|             520|   W 52 St & 5 Ave|           40.75992262|           -73.97648516|\n",
      "|        2473| 2014-04-18 11:56:05| 2014-04-18 12:37:18|             520|   W 52 St & 5 Ave|           40.75992262|           -73.97648516|\n",
      "|          62| 2014-08-21 09:04:54| 2014-08-21 09:05:56|             520|   W 52 St & 5 Ave|           40.75992262|           -73.97648516|\n",
      "|         846|2018-03-22 17:43:...|2018-03-22 17:57:...|             520|   W 52 St & 5 Ave|           40.75992262|           -73.97648516|\n",
      "|         106|2018-03-30 15:52:...|2018-03-30 15:54:...|             520|   W 52 St & 5 Ave|           40.75992262|           -73.97648516|\n",
      "|         672| 2013-08-26 16:33:50| 2013-08-26 16:45:02|             520|   W 52 St & 5 Ave|           40.75992262|           -73.97648516|\n",
      "|         125| 2015-06-27 12:45:00| 2015-06-27 12:47:00|             520|   W 52 St & 5 Ave|           40.75992262|           -73.97648516|\n",
      "|        1541| 2013-09-09 11:57:20| 2013-09-09 12:23:01|             520|   W 52 St & 5 Ave|           40.75992262|           -73.97648516|\n",
      "|         114| 2014-09-13 08:31:12| 2014-09-13 08:33:06|             520|   W 52 St & 5 Ave|           40.75992262|           -73.97648516|\n",
      "+------------+--------------------+--------------------+----------------+------------------+----------------------+-----------------------+\n",
      "only showing top 20 rows\n",
      "\n"
     ]
    },
    {
     "name": "stderr",
     "output_type": "stream",
     "text": [
      "                                                                                \r"
     ]
    }
   ],
   "source": [
    "trips.cache()\n",
    "trips.show()"
   ]
  },
  {
   "cell_type": "code",
   "execution_count": 13,
   "id": "0a9e14d2-aa7e-4e93-8fd9-118fef9e3ad8",
   "metadata": {},
   "outputs": [],
   "source": [
    "#trips.describe().show()"
   ]
  },
  {
   "cell_type": "markdown",
   "id": "7e2f068e-def1-4dd8-991e-93777a4ab67c",
   "metadata": {},
   "source": [
    "### Clean the stations Dataframe"
   ]
  },
  {
   "cell_type": "code",
   "execution_count": 14,
   "id": "051e85a5-e56f-47ed-a60a-2429557d612e",
   "metadata": {},
   "outputs": [],
   "source": [
    "stations = stations.na.drop(subset=[\"latitude\", \"longitude\"])"
   ]
  },
  {
   "cell_type": "code",
   "execution_count": 15,
   "id": "ed8d3eeb-2fe7-49b1-9323-a15c84be76f1",
   "metadata": {},
   "outputs": [],
   "source": [
    "stations = stations.filter((F.col(\"latitude\") != 0.0) \\\n",
    "                     & (F.col(\"longitude\") != 0.0))"
   ]
  },
  {
   "cell_type": "code",
   "execution_count": 16,
   "id": "5c52855b-4c3d-4387-b022-c38576bf0c2f",
   "metadata": {},
   "outputs": [],
   "source": [
    "stations = stations.drop('region_id','rental_methods','capacity','eightd_has_key_dispenser','num_bikes_available','num_bikes_disabled',\\\n",
    "                         'num_docks_available','num_docks_disabled','is_installed','is_renting','is_returning','eightd_has_available_keys','last_reported')"
   ]
  },
  {
   "cell_type": "code",
   "execution_count": 17,
   "id": "d8f7c2e6-ba75-4542-a360-16e2d39973fb",
   "metadata": {},
   "outputs": [
    {
     "name": "stdout",
     "output_type": "stream",
     "text": [
      "root\n",
      " |-- station_id: string (nullable = false)\n",
      " |-- name: string (nullable = true)\n",
      " |-- short_name: string (nullable = true)\n",
      " |-- latitude: double (nullable = true)\n",
      " |-- longitude: double (nullable = true)\n",
      " |-- region_id: long (nullable = true)\n",
      "\n"
     ]
    }
   ],
   "source": [
    "stations.printSchema()"
   ]
  },
  {
   "cell_type": "code",
   "execution_count": 18,
   "id": "31e28ad9-e46f-45de-aaed-37a9b98c9e4d",
   "metadata": {},
   "outputs": [
    {
     "name": "stdout",
     "output_type": "stream",
     "text": [
      "+--------------------+--------------------+----------+------------------+------------------+---------+\n",
      "|          station_id|                name|short_name|          latitude|         longitude|region_id|\n",
      "+--------------------+--------------------+----------+------------------+------------------+---------+\n",
      "|7a1ad7c0-4958-435...|       56 Dr & 59 St|   5579.02|          40.72403|         -73.90853|       71|\n",
      "|66de11bc-0aca-11e...|Wolcott St & Dwig...|   4054.02|        40.6753274|       -74.0100698|       71|\n",
      "|66dd515d-0aca-11e...|W 74 St & Columbu...|   7230.10|        40.7785669|      -73.97754961|       71|\n",
      "|66dd1d0f-0aca-11e...|Banker St & Meser...|   5633.04|          40.72606|         -73.95621|       71|\n",
      "|bfe5e69d-89ff-48b...|       India St Pier|   5794.05|40.731734785883454| -73.9612390102593|       71|\n",
      "|66db277a-0aca-11e...|St James Pl & Pea...|   5167.06|       40.71117416|      -74.00016545|       71|\n",
      "|66dd4ec7-0aca-11e...|Riverside Dr & W ...|   7388.10|       40.78720869|      -73.98128127|       71|\n",
      "|2637fed8-1e2a-460...|E 35 St & Madison...|   6398.08| 40.74848023448579|-73.98255586624146|       71|\n",
      "|c3189056-8eda-427...|Carlton Ave & Dea...|   4199.12|        40.6809741|       -73.9710097|       71|\n",
      "|cd2d9dab-7708-468...|Rutland Rd & E 45 St|   3567.05|          40.66034|         -73.93618|       71|\n",
      "|66de0d91-0aca-11e...|    Union St & 4 Ave|   4175.15|        40.6772744|      -73.98282002|       71|\n",
      "|66de1516-0aca-11e...|Coffey St & Conov...|   4137.10|         40.677236|        -74.015665|       71|\n",
      "|ca7ec509-cefc-4ac...|   Hazen St & 20 Ave|   7032.06|         40.772092|        -73.895166|       71|\n",
      "|93da4d1b-d574-45b...|       65 St & 2 Ave|   3019.02|         40.640493|         -74.02564|       71|\n",
      "|ff8ad6ba-350b-475...|Sullivan Pl & Fra...|   3704.08| 40.66407983678161|-73.96025128666679|       71|\n",
      "|29223935-a682-411...|Knickerbocker Ave...|   5018.06|          40.70539|         -73.92976|       71|\n",
      "|8a560dc7-36d9-439...|Calyer St & Guern...|   5709.03| 40.72755807335852|-73.95505852997303|       71|\n",
      "|d2024260-cc58-451...|      20 Ave & 31 St|   7256.01| 40.78001336610564|-73.90667617321014|       71|\n",
      "|66dbebad-0aca-11e...|    Jay St & Tech Pl|   4710.06|         40.695065|        -73.987167|       71|\n",
      "|73b403cf-86fd-4f9...|     W 18 St & 9 Ave|   6190.03|  40.7435337324616|-74.00367558002472|       71|\n",
      "+--------------------+--------------------+----------+------------------+------------------+---------+\n",
      "only showing top 20 rows\n",
      "\n"
     ]
    },
    {
     "name": "stderr",
     "output_type": "stream",
     "text": [
      "                                                                                \r"
     ]
    }
   ],
   "source": [
    "stations.cache()\n",
    "stations.show()"
   ]
  },
  {
   "cell_type": "code",
   "execution_count": 132,
   "id": "cba38b32-6ea1-4592-adcc-743659a4a25d",
   "metadata": {},
   "outputs": [
    {
     "data": {
      "text/plain": [
       "1906"
      ]
     },
     "execution_count": 132,
     "metadata": {},
     "output_type": "execute_result"
    }
   ],
   "source": [
    "stations.select('station_id').distinct().count()"
   ]
  },
  {
   "cell_type": "markdown",
   "id": "c9b55744-c00a-496a-86f7-2ed0a5632059",
   "metadata": {},
   "source": [
    "### Clean the storms Dataframe"
   ]
  },
  {
   "cell_type": "code",
   "execution_count": 20,
   "id": "5b0ff3dd-7604-4252-ab29-9748d5d10c7e",
   "metadata": {},
   "outputs": [],
   "source": [
    "storms = storms.withColumn(\"event_begin_time\", F.col(\"event_begin_time\").cast(\"timestamp\"))\n",
    "storms = storms.withColumn(\"event_end_time\", F.col(\"event_end_time\").cast(\"timestamp\"))"
   ]
  },
  {
   "cell_type": "code",
   "execution_count": 21,
   "id": "3adc81cd-5147-46c2-9441-73743f718148",
   "metadata": {},
   "outputs": [],
   "source": [
    "storms = storms.na.drop(subset=[\"event_begin_time\", \"event_timezone\", \"event_end_time\", \"event_latitude\", \"event_longitude\"])"
   ]
  },
  {
   "cell_type": "code",
   "execution_count": 22,
   "id": "e93e91ac-17ed-43a7-ada0-3df3e4b34faf",
   "metadata": {},
   "outputs": [],
   "source": [
    "storms = storms.drop(\"injuries_direct\",\"injuries_indirect\",\"deaths_direct\",\"deaths_indirect\",\"damage_property\",\"damage_crops\",\"source\",\"flood_cause\")\n",
    "storms = storms.drop('magnitude','magnitude_type','tor_f_scale','tor_length','tor_width','tor_other_wfo','location_index','event_range','event_azimuth','reference_location','event_point'\\\n",
    "                    ,'state','state_fips_code','cz_type','cz_fips_code','cz_name','wfo')"
   ]
  },
  {
   "cell_type": "code",
   "execution_count": 23,
   "id": "0151588a-082f-401b-99aa-23e039223341",
   "metadata": {},
   "outputs": [],
   "source": [
    "#FIXME: remove storm events where event_end_time is the same as the event_begin_time\n",
    "storms = storms.filter(~(F.col(\"event_end_time\") == F.col(\"event_begin_time\")))\n",
    "# storms_in_stations.count()"
   ]
  },
  {
   "cell_type": "code",
   "execution_count": 24,
   "id": "07b54019-76a7-4277-bf41-2b60cb6e751d",
   "metadata": {},
   "outputs": [
    {
     "name": "stdout",
     "output_type": "stream",
     "text": [
      "root\n",
      " |-- episode_id: string (nullable = true)\n",
      " |-- event_id: string (nullable = true)\n",
      " |-- event_type: string (nullable = true)\n",
      " |-- event_begin_time: timestamp (nullable = true)\n",
      " |-- event_timezone: string (nullable = true)\n",
      " |-- event_end_time: timestamp (nullable = true)\n",
      " |-- event_latitude: double (nullable = true)\n",
      " |-- event_longitude: double (nullable = true)\n",
      "\n"
     ]
    }
   ],
   "source": [
    "storms.printSchema()"
   ]
  },
  {
   "cell_type": "code",
   "execution_count": 25,
   "id": "425cb523-de28-4b30-88d9-acbd490618ad",
   "metadata": {},
   "outputs": [
    {
     "name": "stderr",
     "output_type": "stream",
     "text": [
      "[Stage 2:>                                                          (0 + 1) / 1]\r"
     ]
    },
    {
     "name": "stdout",
     "output_type": "stream",
     "text": [
      "+----------+--------+----------+-------------------+--------------+-------------------+--------------+---------------+\n",
      "|episode_id|event_id|event_type|   event_begin_time|event_timezone|     event_end_time|event_latitude|event_longitude|\n",
      "+----------+--------+----------+-------------------+--------------+-------------------+--------------+---------------+\n",
      "|     70537|  423603|      hail|2013-01-29 02:15:00|         EST-5|2013-01-29 02:16:00|          41.7|          -86.0|\n",
      "|     70537|  423604|      hail|2013-01-29 14:00:00|         EST-5|2013-01-29 14:01:00|         41.68|         -85.98|\n",
      "|     70537|  423605|      hail|2013-01-29 13:50:00|         EST-5|2013-01-29 13:51:00|         41.21|         -86.11|\n",
      "|     70538|  423602|      hail|2013-01-29 02:40:00|         EST-5|2013-01-29 02:41:00|         41.76|         -85.68|\n",
      "|     70674|  424291|      hail|2013-01-29 11:16:00|         CST-6|2013-01-29 11:18:00|         32.75|          -98.9|\n",
      "|     70674|  424292|      hail|2013-01-29 12:45:00|         CST-6|2013-01-29 12:48:00|         33.09|          -98.0|\n",
      "|     70674|  424293|      hail|2013-01-29 13:34:00|         CST-6|2013-01-29 13:35:00|         32.91|         -97.94|\n",
      "|     70674|  424294|      hail|2013-01-29 13:38:00|         CST-6|2013-01-29 13:40:00|         32.75|         -98.02|\n",
      "|     70674|  424295|      hail|2013-01-29 13:45:00|         CST-6|2013-01-29 13:48:00|         33.07|         -97.72|\n",
      "|     70674|  424297|      hail|2013-01-29 13:57:00|         CST-6|2013-01-29 13:59:00|         33.23|          -97.6|\n",
      "|     70674|  424298|      hail|2013-01-29 14:00:00|         CST-6|2013-01-29 14:02:00|         33.22|         -97.59|\n",
      "|     71054|  430434|      hail|2013-02-24 22:02:00|         CST-6|2013-02-24 22:05:00|       33.2406|      -100.5737|\n",
      "|     71054|  430434|      hail|2013-02-24 22:02:00|         CST-6|2013-02-24 22:05:00|         33.25|      -100.5627|\n",
      "|     71234|  428056|      hail|2013-03-05 09:18:00|         CST-6|2013-03-05 09:21:00|         34.83|         -87.29|\n",
      "|     71234|  428057|      hail|2013-03-05 09:59:00|         CST-6|2013-03-05 10:02:00|       34.6198|       -87.0519|\n",
      "|     71234|  428058|      hail|2013-03-05 11:19:00|         CST-6|2013-03-05 11:22:00|         34.48|         -87.28|\n",
      "|     71234|  428060|      hail|2013-03-05 11:49:00|         CST-6|2013-03-05 11:52:00|         34.64|         -86.78|\n",
      "|     71234|  428061|      hail|2013-03-05 12:00:00|         CST-6|2013-03-05 12:03:00|         34.48|         -87.28|\n",
      "|     71234|  428062|      hail|2013-03-05 12:00:00|         CST-6|2013-03-05 12:03:00|         34.76|         -86.41|\n",
      "|     71234|  428063|      hail|2013-03-05 12:01:00|         CST-6|2013-03-05 12:04:00|         34.48|         -87.33|\n",
      "+----------+--------+----------+-------------------+--------------+-------------------+--------------+---------------+\n",
      "only showing top 20 rows\n",
      "\n"
     ]
    },
    {
     "name": "stderr",
     "output_type": "stream",
     "text": [
      "                                                                                \r"
     ]
    }
   ],
   "source": [
    "storms.cache()\n",
    "storms.show()"
   ]
  },
  {
   "cell_type": "code",
   "execution_count": 26,
   "id": "6de5c760-2969-4803-98e5-9fcd129aeab5",
   "metadata": {},
   "outputs": [],
   "source": [
    "#storms.describe().show()"
   ]
  },
  {
   "cell_type": "markdown",
   "id": "24a9e2ae-c164-4aa4-9c1e-51f60e469cc8",
   "metadata": {},
   "source": [
    "# Data Processing"
   ]
  },
  {
   "cell_type": "markdown",
   "id": "cb020376-8e8e-4754-8c10-e3cbc33895ce",
   "metadata": {},
   "source": [
    "### Assumption 1: if a storm event is in the rectangular area bounded by the minimum and maximum latitudes and longitudes of all stations, then the Citibike usages were under the effect of that storm (could be improved using the postal code)\n",
    "\n",
    "### Assumption 2: use only the starting station's longitudes and latitudes as the geological location of that bike trip in the Citibike trips table "
   ]
  },
  {
   "cell_type": "code",
   "execution_count": 27,
   "id": "b33f7128-250c-4b56-99bf-b26a15cad3d9",
   "metadata": {},
   "outputs": [
    {
     "name": "stdout",
     "output_type": "stream",
     "text": [
      "latitude: 40.633385 40.88226\n",
      "longitude -74.0867006778717 -73.88145\n"
     ]
    }
   ],
   "source": [
    "lo_lati = stations.select(\"latitude\").orderBy(\"latitude\").collect()[0][0]\n",
    "hi_lati = stations.select(\"latitude\").orderBy(F.col(\"latitude\").desc()).collect()[0][0]\n",
    "lo_longi =stations.select(\"longitude\").orderBy(\"longitude\").collect()[0][0]\n",
    "hi_longi =stations.select(\"longitude\").orderBy(F.col(\"longitude\").desc()).collect()[0][0]\n",
    "\n",
    "print(\"latitude:\", lo_lati, hi_lati)\n",
    "print(\"longitude\", lo_longi, hi_longi)"
   ]
  },
  {
   "cell_type": "code",
   "execution_count": 28,
   "id": "a29ca0b9-3eb5-4b4d-89b6-4a55f0d986cc",
   "metadata": {},
   "outputs": [],
   "source": [
    "#FIXME: filter the storms based on the rectangular area bounded by the latitudes and longitudes of stations\n",
    "storms_in_stations = storms.filter(F.col(\"event_latitude\").between(lo_lati, hi_lati) & F.col(\"event_longitude\").between(lo_longi, hi_longi))"
   ]
  },
  {
   "cell_type": "code",
   "execution_count": 29,
   "id": "4d085419-8baf-4e16-a3e6-cf70c86dc93d",
   "metadata": {},
   "outputs": [],
   "source": [
    "# FIXME: find the zip code using the latitude and longitude\n",
    "\n",
    "# def return_zip(long, lat):\n",
    "#     Latitude = lat\n",
    "#     Longitude = long\n",
    "#     location = geolocator.reverse(Latitude+\",\"+Longitude)\n",
    "#     address = location.raw['address']\n",
    "#     return address['postcode']\n",
    "\n",
    "\n",
    "# postal_code_udf = F.udf(return_zip, DoubleType())"
   ]
  },
  {
   "cell_type": "markdown",
   "id": "e0b1edfd-eead-4fb2-baa7-3e1268b335d1",
   "metadata": {},
   "source": [
    "##### (New York state_fips_code: 36) "
   ]
  },
  {
   "cell_type": "code",
   "execution_count": 30,
   "id": "31e1b52d-cd33-4739-934e-02af5cc73d61",
   "metadata": {},
   "outputs": [],
   "source": [
    "# storms = storms.withColumn(\"postal_code\", postal_code_udf(storms.event_longitude, storms.event_latitude))\n",
    "# trips = trips.withColumn('postal_code', postal_code_udf(trips.start_station_longitude, trips.start_station_latitude))\n",
    "# stations = stations.withColumn('postal_code', postal_code_udf(stations.longitude, stations.latitude))"
   ]
  },
  {
   "cell_type": "code",
   "execution_count": 31,
   "id": "59e7aac0-573f-4caa-8b11-6b9cb18b55da",
   "metadata": {},
   "outputs": [],
   "source": [
    "# station_postal_codes = stations.select(\"postal_code\").distinct().collect()\n",
    "# station_postal_codes\n",
    "# #storms_in_stations = storms.filter(F.col(\"postal_code\").isin(station_postal_codes))"
   ]
  },
  {
   "cell_type": "code",
   "execution_count": 32,
   "id": "1501c8d1-5b44-4366-8805-5e29f6011c9d",
   "metadata": {},
   "outputs": [
    {
     "name": "stderr",
     "output_type": "stream",
     "text": [
      "                                                                                \r"
     ]
    },
    {
     "data": {
      "text/plain": [
       "29"
      ]
     },
     "execution_count": 32,
     "metadata": {},
     "output_type": "execute_result"
    }
   ],
   "source": [
    "#FIXME: duplicate events of storm in the same episode need to be removed\n",
    "storms_in_stations = storms_in_stations.dropDuplicates(subset=[\"episode_id\"])\n",
    "storms_in_stations.count()"
   ]
  },
  {
   "cell_type": "code",
   "execution_count": 33,
   "id": "1677aeeb-fc25-42a2-8856-ade80a052afb",
   "metadata": {},
   "outputs": [],
   "source": [
    "storms_in_stations = storms_in_stations.withColumn(\"event_duration_in_sec\", F.col(\"event_end_time\").cast(LongType()) - F.col(\"event_begin_time\").cast(LongType()))"
   ]
  },
  {
   "cell_type": "code",
   "execution_count": 34,
   "id": "5a8fd69d-6856-4051-9aab-8d28766e8bbf",
   "metadata": {},
   "outputs": [
    {
     "name": "stderr",
     "output_type": "stream",
     "text": [
      "[Stage 29:======================================>                   (2 + 1) / 3]\r"
     ]
    },
    {
     "name": "stdout",
     "output_type": "stream",
     "text": [
      "+----------+--------+-----------+-------------------+--------------+-------------------+--------------+---------------+---------------------+\n",
      "|episode_id|event_id| event_type|   event_begin_time|event_timezone|     event_end_time|event_latitude|event_longitude|event_duration_in_sec|\n",
      "+----------+--------+-----------+-------------------+--------------+-------------------+--------------+---------------+---------------------+\n",
      "|    131099|  784213|flash flood|2018-09-25 11:03:00|         EST-5|2018-09-25 14:30:00|       40.7849|       -74.0468|                12420|\n",
      "|     76521|  467533|      flood|2013-06-07 22:05:00|         EST-5|2013-06-08 02:30:00|       40.7942|       -73.9547|                15900|\n",
      "|     84980|  514109|      flood|2014-04-30 21:29:00|         EST-5|2014-04-30 21:59:00|       40.8822|       -74.0822|                 1800|\n",
      "|     87719|  529219|flash flood|2014-06-13 17:42:00|         EST-5|2014-06-13 18:20:00|       40.6768|       -73.9843|                 2280|\n",
      "|     88868|  535815|flash flood|2014-07-02 19:15:00|         EST-5|2014-07-02 19:45:00|       40.6886|       -74.0043|                 1800|\n",
      "|     89000|  536289|flash flood|2014-07-03 19:40:00|         EST-5|2014-07-03 20:10:00|       40.8464|        -73.914|                 1800|\n",
      "|     98366|  591860|flash flood|2015-07-15 11:01:00|         EST-5|2015-07-15 12:00:00|       40.6748|       -73.9967|                 3540|\n",
      "|     98403|  592047|flash flood|2015-07-30 14:04:00|         EST-5|2015-07-30 14:17:00|       40.8216|       -73.8861|                  780|\n",
      "|    115225|  691823|flash flood|2017-05-05 11:35:00|         EST-5|2017-05-05 13:15:00|        40.877|       -74.0443|                 6000|\n",
      "|    115229|  691842|flash flood|2017-05-05 12:40:00|         EST-5|2017-05-05 13:21:00|       40.7503|       -74.0076|                 2460|\n",
      "|    117524|  706862|flash flood|2017-06-19 16:36:00|         EST-5|2017-06-19 17:06:00|       40.6685|       -73.9879|                 1800|\n",
      "|    129017|  775714|flash flood|2018-07-17 15:32:00|         EST-5|2018-07-17 16:02:00|       40.7602|       -73.9579|                 1800|\n",
      "|    132550|  793076|      flood|2018-12-21 11:54:00|         EST-5|2018-12-21 12:24:00|       40.8808|       -74.0831|                 1800|\n",
      "|     75243|  454597|flash flood|2013-05-08 07:45:00|         EST-5|2013-05-08 08:15:00|        40.761|       -74.0511|                 1800|\n",
      "|     79670|  477769|flash flood|2013-09-02 12:30:00|         EST-5|2013-09-02 13:00:00|        40.767|       -73.8906|                 1800|\n",
      "|     86867|  525030|      flood|2014-05-01 04:15:00|         EST-5|2014-05-01 08:15:00|       40.8704|       -74.0597|                14400|\n",
      "|     90054|  542517|flash flood|2014-08-31 16:08:00|         EST-5|2014-08-31 16:38:00|        40.854|        -73.919|                 1800|\n",
      "|    107652|  645168|flash flood|2016-07-25 17:15:00|         EST-5|2016-07-25 17:45:00|       40.7612|       -74.0509|                 1800|\n",
      "|    125008|  749702|flash flood|2018-04-16 08:47:00|         EST-5|2018-04-16 10:45:00|       40.8264|        -73.951|                 7080|\n",
      "|    125015|  749751|flash flood|2018-04-16 09:25:00|         EST-5|2018-04-16 12:38:00|       40.7314|       -74.0408|                11580|\n",
      "+----------+--------+-----------+-------------------+--------------+-------------------+--------------+---------------+---------------------+\n",
      "only showing top 20 rows\n",
      "\n"
     ]
    },
    {
     "name": "stderr",
     "output_type": "stream",
     "text": [
      "                                                                                \r"
     ]
    }
   ],
   "source": [
    "storms_in_stations.show()"
   ]
  },
  {
   "cell_type": "code",
   "execution_count": 35,
   "id": "778b90f2-beaf-43e9-ac15-2ef03dd99d64",
   "metadata": {},
   "outputs": [
    {
     "name": "stderr",
     "output_type": "stream",
     "text": [
      "                                                                                \r"
     ]
    },
    {
     "name": "stdout",
     "output_type": "stream",
     "text": [
      "+-----------+\n",
      "| event_type|\n",
      "+-----------+\n",
      "|      flood|\n",
      "|flash flood|\n",
      "+-----------+\n",
      "\n"
     ]
    }
   ],
   "source": [
    "#FIXME: group the events by three types of storms\n",
    "storms_in_stations_category = storms_in_stations.select(\"event_type\").distinct().show()"
   ]
  },
  {
   "cell_type": "markdown",
   "id": "58c77919-acbc-4e9e-b78b-52a40d1aaab7",
   "metadata": {},
   "source": [
    "### Inner join the storms_in_stations Dataframe to the trips Dataframe"
   ]
  },
  {
   "cell_type": "code",
   "execution_count": 53,
   "id": "326d4e18-64dd-47df-9b88-1cadadc65d7b",
   "metadata": {},
   "outputs": [
    {
     "name": "stdout",
     "output_type": "stream",
     "text": [
      "+------------+--------------------+--------------------+----------------+--------------------+----------------------+-----------------------+----------+--------+-----------+-------------------+--------------+-------------------+--------------+---------------+---------------------+\n",
      "|tripduration|           starttime|            stoptime|start_station_id|  start_station_name|start_station_latitude|start_station_longitude|episode_id|event_id| event_type|   event_begin_time|event_timezone|     event_end_time|event_latitude|event_longitude|event_duration_in_sec|\n",
      "+------------+--------------------+--------------------+----------------+--------------------+----------------------+-----------------------+----------+--------+-----------+-------------------+--------------+-------------------+--------------+---------------+---------------------+\n",
      "|         637| 2015-07-30 14:14:05| 2015-07-30 14:24:42|             403|      E 2 St & 2 Ave|           40.72502876|           -73.99069656|     98403|  592047|flash flood|2015-07-30 14:04:00|         EST-5|2015-07-30 14:17:00|       40.8216|       -73.8861|                  780|\n",
      "|         699| 2013-09-02 12:42:12| 2013-09-02 12:53:51|             363|      West Thames St|           40.70834698|           -74.01713445|     79670|  477769|flash flood|2013-09-02 12:30:00|         EST-5|2013-09-02 13:00:00|        40.767|       -73.8906|                 1800|\n",
      "|         856| 2014-05-23 19:03:11| 2014-05-23 19:17:27|             363|      West Thames St|           40.70834698|           -74.01713445|     85029|  524534|flash flood|2014-05-23 19:00:00|         EST-5|2014-05-23 21:35:00|       40.7593|       -74.0496|                 9300|\n",
      "|        2196| 2015-05-31 16:29:15| 2015-05-31 17:05:51|              83|Atlantic Ave & Fo...|           40.68382604|           -73.97632328|     95108|  573664|flash flood|2015-05-31 16:06:00|         EST-5|2015-05-31 17:08:00|       40.7411|       -74.0761|                 3720|\n",
      "|         240|2018-04-16 10:40:...|2018-04-16 10:44:...|             470|     W 20 St & 8 Ave|           40.74345335|           -74.00004031|    125008|  749702|flash flood|2018-04-16 08:47:00|         EST-5|2018-04-16 10:45:00|       40.8264|        -73.951|                 7080|\n",
      "|         240|2018-04-16 10:40:...|2018-04-16 10:44:...|             470|     W 20 St & 8 Ave|           40.74345335|           -74.00004031|    125015|  749751|flash flood|2018-04-16 09:25:00|         EST-5|2018-04-16 12:38:00|       40.7314|       -74.0408|                11580|\n",
      "|        1367| 2017-06-19 16:35:21| 2017-06-19 16:58:08|             347|Greenwich St & W ...|             40.728846|             -74.008591|    117524|  706862|flash flood|2017-06-19 16:36:00|         EST-5|2017-06-19 17:06:00|       40.6685|       -73.9879|                 1800|\n",
      "|         398| 2014-05-01 08:06:03| 2014-05-01 08:12:41|             493|     W 45 St & 6 Ave|            40.7568001|           -73.98291153|     86867|  525030|      flood|2014-05-01 04:15:00|         EST-5|2014-05-01 08:15:00|       40.8704|       -74.0597|                14400|\n",
      "|        1121| 2015-07-30 14:09:17| 2015-07-30 14:27:58|             502| Henry St & Grand St|             40.714215|             -73.981346|     98403|  592047|flash flood|2015-07-30 14:04:00|         EST-5|2015-07-30 14:17:00|       40.8216|       -73.8861|                  780|\n",
      "|        1977| 2014-08-31 15:36:45| 2014-08-31 16:09:42|             328|Watts St & Greenw...|           40.72405549|           -74.00965965|     90054|  542517|flash flood|2014-08-31 16:08:00|         EST-5|2014-08-31 16:38:00|        40.854|        -73.919|                 1800|\n",
      "|         340| 2014-08-31 16:21:29| 2014-08-31 16:27:09|             483|     E 12 St & 3 Ave|           40.73223272|           -73.98889957|     90054|  542517|flash flood|2014-08-31 16:08:00|         EST-5|2014-08-31 16:38:00|        40.854|        -73.919|                 1800|\n",
      "|         228| 2013-09-02 12:50:14| 2013-09-02 12:54:02|             483|     E 12 St & 3 Ave|           40.73223272|           -73.98889957|     79670|  477769|flash flood|2013-09-02 12:30:00|         EST-5|2013-09-02 13:00:00|        40.767|       -73.8906|                 1800|\n",
      "|      461019|2018-04-12 11:18:...|2018-04-17 19:21:...|            3581|Underhill Ave & L...|            40.6740123|            -73.9671457|    125008|  749702|flash flood|2018-04-16 08:47:00|         EST-5|2018-04-16 10:45:00|       40.8264|        -73.951|                 7080|\n",
      "|      461019|2018-04-12 11:18:...|2018-04-17 19:21:...|            3581|Underhill Ave & L...|            40.6740123|            -73.9671457|    125015|  749751|flash flood|2018-04-16 09:25:00|         EST-5|2018-04-16 12:38:00|       40.7314|       -74.0408|                11580|\n",
      "|         523| 2015-07-15 11:40:43| 2015-07-15 11:49:26|             469|  Broadway & W 53 St|           40.76344058|           -73.98268129|     98366|  591860|flash flood|2015-07-15 11:01:00|         EST-5|2015-07-15 12:00:00|       40.6748|       -73.9967|                 3540|\n",
      "|         427| 2017-06-19 16:37:59| 2017-06-19 16:45:06|             257|Lispenard St & Br...|           40.71939226|           -74.00247214|    117524|  706862|flash flood|2017-06-19 16:36:00|         EST-5|2017-06-19 17:06:00|       40.6685|       -73.9879|                 1800|\n",
      "|        1025| 2014-07-03 19:43:06| 2014-07-03 20:00:11|             257|Lispenard St & Br...|           40.71939226|           -74.00247214|     89000|  536289|flash flood|2014-07-03 19:40:00|         EST-5|2014-07-03 20:10:00|       40.8464|        -73.914|                 1800|\n",
      "|       11216| 2013-09-02 12:44:27| 2013-09-02 15:51:23|             442|     W 27 St & 7 Ave|             40.746647|             -73.993915|     79670|  477769|flash flood|2013-09-02 12:30:00|         EST-5|2013-09-02 13:00:00|        40.767|       -73.8906|                 1800|\n",
      "|        1026| 2013-09-02 12:42:37| 2013-09-02 12:59:43|             449|     W 52 St & 9 Ave|           40.76461837|           -73.98789473|     79670|  477769|flash flood|2013-09-02 12:30:00|         EST-5|2013-09-02 13:00:00|        40.767|       -73.8906|                 1800|\n",
      "|         257|2018-04-16 11:26:...|2018-04-16 11:30:...|            3100|Nassau Ave & Newe...|    40.724812564400175|     -73.94752621650696|    125015|  749751|flash flood|2018-04-16 09:25:00|         EST-5|2018-04-16 12:38:00|       40.7314|       -74.0408|                11580|\n",
      "|         678| 2014-07-03 19:59:43| 2014-07-03 20:11:01|             379|     W 31 St & 7 Ave|             40.749156|               -73.9916|     89000|  536289|flash flood|2014-07-03 19:40:00|         EST-5|2014-07-03 20:10:00|       40.8464|        -73.914|                 1800|\n",
      "|         563| 2014-05-01 06:52:54| 2014-05-01 07:02:17|             379|     W 31 St & 7 Ave|             40.749156|               -73.9916|     86867|  525030|      flood|2014-05-01 04:15:00|         EST-5|2014-05-01 08:15:00|       40.8704|       -74.0597|                14400|\n",
      "|         290| 2014-06-13 17:48:04| 2014-06-13 17:52:54|             379|     W 31 St & 7 Ave|             40.749156|               -73.9916|     87719|  529219|flash flood|2014-06-13 17:42:00|         EST-5|2014-06-13 18:20:00|       40.6768|       -73.9843|                 2280|\n",
      "|         365| 2015-07-15 11:16:19| 2015-07-15 11:22:24|             379|     W 31 St & 7 Ave|             40.749156|               -73.9916|     98366|  591860|flash flood|2015-07-15 11:01:00|         EST-5|2015-07-15 12:00:00|       40.6748|       -73.9967|                 3540|\n",
      "|         396|2018-04-16 12:28:...|2018-04-16 12:34:...|             379|     W 31 St & 7 Ave|             40.749156|               -73.9916|    125015|  749751|flash flood|2018-04-16 09:25:00|         EST-5|2018-04-16 12:38:00|       40.7314|       -74.0408|                11580|\n",
      "|         527| 2014-05-01 06:43:46| 2014-05-01 06:52:33|             379|     W 31 St & 7 Ave|             40.749156|               -73.9916|     86867|  525030|      flood|2014-05-01 04:15:00|         EST-5|2014-05-01 08:15:00|       40.8704|       -74.0597|                14400|\n",
      "|         445| 2014-05-01 08:03:00| 2014-05-01 08:10:25|             379|     W 31 St & 7 Ave|             40.749156|               -73.9916|     86867|  525030|      flood|2014-05-01 04:15:00|         EST-5|2014-05-01 08:15:00|       40.8704|       -74.0597|                14400|\n",
      "|         125| 2014-07-03 19:47:10| 2014-07-03 19:49:15|             306|Cliff St & Fulton St|           40.70823502|           -74.00530063|     89000|  536289|flash flood|2014-07-03 19:40:00|         EST-5|2014-07-03 20:10:00|       40.8464|        -73.914|                 1800|\n",
      "|         413| 2017-06-19 16:31:14| 2017-06-19 16:38:08|             251| Mott St & Prince St|           40.72317958|           -73.99480012|    117524|  706862|flash flood|2017-06-19 16:36:00|         EST-5|2017-06-19 17:06:00|       40.6685|       -73.9879|                 1800|\n",
      "|         839| 2014-07-15 14:54:02| 2014-07-15 15:08:01|             276|Duane St & Greenw...|           40.71748752|            -74.0104554|     89233|  537679|flash flood|2014-07-15 14:48:00|         EST-5|2014-07-15 15:18:00|       40.8549|       -73.9401|                 1800|\n",
      "+------------+--------------------+--------------------+----------------+--------------------+----------------------+-----------------------+----------+--------+-----------+-------------------+--------------+-------------------+--------------+---------------+---------------------+\n",
      "only showing top 30 rows\n",
      "\n"
     ]
    },
    {
     "name": "stderr",
     "output_type": "stream",
     "text": [
      "23/04/29 03:02:07 WARN org.apache.spark.sql.execution.CacheManager: Asked to cache already cached data.\n",
      "                                                                                \r"
     ]
    }
   ],
   "source": [
    "# FIXME: multiple storms for one trip?\n",
    "# FIXME: join issues: only used trips rows that are within the storm duration\n",
    "\n",
    "# stormPassedCond = trips[\"starttime\"] > storms_in_stations[\"event_end_time\"]\n",
    "# stormNotArrivedCond = trips[\"stoptime\"] < storms_in_stations[\"event_begin_time\"]\n",
    "\n",
    "# df = trips.join(storms_in_stations, on=(~stormPassedCond | ~stormNotArrivedCond), how=\"inner\")\n",
    "# df.show()\n",
    "\n",
    "\n",
    "\n",
    "df = trips.join(storms_in_stations, \\\n",
    "                on=(trips.starttime <= storms_in_stations.event_end_time) & (trips.stoptime >= storms_in_stations.event_begin_time), \\\n",
    "                how=\"inner\")\n",
    "df.cache()\n",
    "df.show(30)"
   ]
  },
  {
   "cell_type": "code",
   "execution_count": 38,
   "id": "91b0ed3f-1484-4974-94f1-60f5b95c1b91",
   "metadata": {},
   "outputs": [
    {
     "name": "stdout",
     "output_type": "stream",
     "text": [
      "root\n",
      " |-- tripduration: long (nullable = true)\n",
      " |-- starttime: timestamp (nullable = true)\n",
      " |-- stoptime: timestamp (nullable = true)\n",
      " |-- start_station_id: long (nullable = true)\n",
      " |-- start_station_name: string (nullable = true)\n",
      " |-- start_station_latitude: double (nullable = true)\n",
      " |-- start_station_longitude: double (nullable = true)\n",
      " |-- episode_id: string (nullable = true)\n",
      " |-- event_id: string (nullable = true)\n",
      " |-- event_type: string (nullable = true)\n",
      " |-- event_begin_time: timestamp (nullable = true)\n",
      " |-- event_timezone: string (nullable = true)\n",
      " |-- event_end_time: timestamp (nullable = true)\n",
      " |-- event_latitude: double (nullable = true)\n",
      " |-- event_longitude: double (nullable = true)\n",
      " |-- event_duration_in_sec: long (nullable = true)\n",
      " |-- station_id: string (nullable = true)\n",
      " |-- name: string (nullable = true)\n",
      " |-- short_name: string (nullable = true)\n",
      " |-- latitude: double (nullable = true)\n",
      " |-- longitude: double (nullable = true)\n",
      " |-- region_id: long (nullable = true)\n",
      "\n"
     ]
    }
   ],
   "source": [
    "df.printSchema()"
   ]
  },
  {
   "cell_type": "code",
   "execution_count": 39,
   "id": "ea39aea5-3777-44f6-8786-9dc75325cfed",
   "metadata": {},
   "outputs": [
    {
     "name": "stderr",
     "output_type": "stream",
     "text": [
      "                                                                                \r"
     ]
    },
    {
     "data": {
      "text/plain": [
       "18304"
      ]
     },
     "execution_count": 39,
     "metadata": {},
     "output_type": "execute_result"
    }
   ],
   "source": [
    "df.count()"
   ]
  },
  {
   "cell_type": "markdown",
   "id": "b6444dc0-e7d5-4713-8960-a6a1d2ebd072",
   "metadata": {},
   "source": [
    "# Data Visualization"
   ]
  },
  {
   "cell_type": "code",
   "execution_count": 40,
   "id": "6d5e4a0b-5213-4bbf-b5da-921ba9d29704",
   "metadata": {},
   "outputs": [
    {
     "name": "stderr",
     "output_type": "stream",
     "text": [
      "/opt/conda/miniconda3/lib/python3.8/site-packages/scipy/__init__.py:138: UserWarning: A NumPy version >=1.16.5 and <1.23.0 is required for this version of SciPy (detected version 1.23.5)\n",
      "  warnings.warn(f\"A NumPy version >={np_minversion} and <{np_maxversion} is required for this version of \"\n"
     ]
    }
   ],
   "source": [
    "import seaborn as sns\n",
    "import matplotlib.pyplot as plt"
   ]
  },
  {
   "cell_type": "code",
   "execution_count": 41,
   "id": "d1eabf82-f21f-45bd-b622-6ba9deeda015",
   "metadata": {},
   "outputs": [
    {
     "name": "stderr",
     "output_type": "stream",
     "text": [
      "/opt/conda/miniconda3/lib/python3.8/site-packages/seaborn/distributions.py:2619: FutureWarning: `distplot` is a deprecated function and will be removed in a future version. Please adapt your code to use either `displot` (a figure-level function with similar flexibility) or `histplot` (an axes-level function for histograms).\n",
      "  warnings.warn(msg, FutureWarning)\n"
     ]
    },
    {
     "data": {
      "text/plain": [
       "<AxesSubplot:ylabel='Density'>"
      ]
     },
     "execution_count": 41,
     "metadata": {},
     "output_type": "execute_result"
    },
    {
     "data": {
      "image/png": "[encoded data removed]",
      "text/plain": [
       "<Figure size 640x480 with 1 Axes>"
      ]
     },
     "metadata": {},
     "output_type": "display_data"
    }
   ],
   "source": [
    "# Sample the dataframe\n",
    "sample_df = df.select(['tripduration']).sample(withReplacement=False, fraction=.4, seed=42)\n",
    "\n",
    "# Convert the sample to a Pandas DataFrame\n",
    "pandas_df = sample_df.toPandas()\n",
    "\n",
    "# Plot it\n",
    "sns.distplot(pandas_df)\n"
   ]
  },
  {
   "cell_type": "markdown",
   "id": "44c6f358-92e6-4e86-b05b-01cf37a782ba",
   "metadata": {},
   "source": [
    "#### By the distribution plot, we can see that the NYC Citibike usage duration during storms are heavily skewed to the right, meaning that although most Citibike usages during the storm were within short durations, there were many extreme cases with much longer usage durations. \n",
    "\n",
    "#### It is also possible that people might leave the Citibike somewhere other than a Citibike station, making the usage time extremely long."
   ]
  },
  {
   "cell_type": "code",
   "execution_count": 42,
   "id": "210a682a-a6b0-44c2-a896-c860e3188a37",
   "metadata": {},
   "outputs": [
    {
     "name": "stderr",
     "output_type": "stream",
     "text": [
      "/opt/conda/miniconda3/lib/python3.8/site-packages/seaborn/distributions.py:2619: FutureWarning: `distplot` is a deprecated function and will be removed in a future version. Please adapt your code to use either `displot` (a figure-level function with similar flexibility) or `histplot` (an axes-level function for histograms).\n",
      "  warnings.warn(msg, FutureWarning)\n"
     ]
    },
    {
     "data": {
      "text/plain": [
       "<AxesSubplot:ylabel='Density'>"
      ]
     },
     "execution_count": 42,
     "metadata": {},
     "output_type": "execute_result"
    },
    {
     "data": {
      "image/png": "[encoded data removed]",
      "text/plain": [
       "<Figure size 640x480 with 1 Axes>"
      ]
     },
     "metadata": {},
     "output_type": "display_data"
    }
   ],
   "source": [
    "df = df.withColumn(\"log_tripduration\", F.log(df.tripduration))\n",
    "\n",
    "# Sample the dataframe\n",
    "sample_df = df.select(['log_tripduration']).sample(withReplacement=False, fraction=.4, seed=42)\n",
    "\n",
    "# Convert the sample to a Pandas DataFrame\n",
    "pandas_df = sample_df.toPandas()\n",
    "\n",
    "# Plot it\n",
    "sns.distplot(pandas_df)"
   ]
  },
  {
   "cell_type": "markdown",
   "id": "70afa210-8c89-4640-b142-b7813488cf25",
   "metadata": {},
   "source": [
    "#### To reduce the skewness of the Citibike usage duration data while maintaining its characteristics, or reduce the extreme cases and make the data distribution to conform to a Normal distribution, so as to make our statistical analysis more valid, we apply a natural log transformation to the Citibike usage time in this case. \n",
    "\n",
    "#### We can see from the distribution plot of the log-transformed Citibike usage time data that it becomes more \"Normal\" now."
   ]
  },
  {
   "cell_type": "code",
   "execution_count": 43,
   "id": "2a5a74d6-183f-40f7-8d26-1bbb77586f01",
   "metadata": {},
   "outputs": [
    {
     "name": "stderr",
     "output_type": "stream",
     "text": [
      "/opt/conda/miniconda3/lib/python3.8/site-packages/seaborn/distributions.py:2619: FutureWarning: `distplot` is a deprecated function and will be removed in a future version. Please adapt your code to use either `displot` (a figure-level function with similar flexibility) or `histplot` (an axes-level function for histograms).\n",
      "  warnings.warn(msg, FutureWarning)\n"
     ]
    },
    {
     "data": {
      "text/plain": [
       "<AxesSubplot:ylabel='Density'>"
      ]
     },
     "execution_count": 43,
     "metadata": {},
     "output_type": "execute_result"
    },
    {
     "data": {
      "image/png": "[encoded data removed]",
      "text/plain": [
       "<Figure size 640x480 with 1 Axes>"
      ]
     },
     "metadata": {},
     "output_type": "display_data"
    }
   ],
   "source": [
    "# Sample the dataframe\n",
    "sample_df = df.select(['event_duration_in_sec']).sample(withReplacement=False, fraction=.4, seed=42)\n",
    "\n",
    "# Convert the sample to a Pandas DataFrame\n",
    "pandas_df = sample_df.toPandas()\n",
    "\n",
    "# Plot it\n",
    "sns.distplot(pandas_df)\n"
   ]
  },
  {
   "cell_type": "markdown",
   "id": "2b7a3f38-3a21-4657-a6d0-e687149d84e3",
   "metadata": {},
   "source": [
    "#### We can also plot the distribution plot of the storm event duration to view how the storm event duration data distributes as well."
   ]
  },
  {
   "cell_type": "code",
   "execution_count": 44,
   "id": "230eb830-9f5a-4b05-bb2d-27205a2be411",
   "metadata": {},
   "outputs": [
    {
     "data": {
      "image/png": "[encoded data removed]",
      "text/plain": [
       "<Figure size 622.5x500 with 1 Axes>"
      ]
     },
     "metadata": {},
     "output_type": "display_data"
    }
   ],
   "source": [
    "# Select the relevant columns and sample\n",
    "sample_df = df.select(['event_duration_in_sec', 'log_tripduration', 'event_type']).sample(withReplacement=False, fraction=.4, seed=42)\n",
    "\n",
    "# Convert to pandas dataframe\n",
    "pandas_df = sample_df.toPandas()\n",
    "\n",
    "# Linear model plot of pandas_df\n",
    "sns.lmplot(x='event_duration_in_sec', y='log_tripduration', hue='event_type', data=pandas_df)\n",
    "plt.show()"
   ]
  },
  {
   "cell_type": "markdown",
   "id": "d591f5bb-ae33-4f4e-9ea2-9e04b3898c53",
   "metadata": {},
   "source": [
    "### As seen from the scatterplot, the log-transformed Citibike usage time is negatively correlated with the duration of both flash flood and flood, with the flash flood having a higher correlation coefficient. \n",
    "\n",
    "### This means that as the severe storm events like flash flood and flood last longer in NYC, people are less likely to use Citibikes during the storms. \n",
    "\n",
    "### We can also see that the duration of flash flood has greater negative impacts on the NYC Citibike usages than duration of flood. Flash floods have a sudden and rapid impact on the affected areas, which can cause immediate disruptions to transportation systems, including Citibike usage. The quick onset of flash floods might force riders to change their plans and adapt quickly, which could lead to stronger correlations between flash flood duration and Citibike trip duration.\n",
    "\n",
    "### Finally we can conclude that Citibike usage tends to decline as the duration of severe storms increases, although people might choose to ride a Citibike less during a storm regardless of the storm's intensity."
   ]
  },
  {
   "cell_type": "code",
   "execution_count": null,
   "id": "7bbf0c15-7adb-4f30-bdad-364e87b00104",
   "metadata": {},
   "outputs": [],
   "source": []
  },
  {
   "cell_type": "markdown",
   "id": "44585dd8-bc66-43b8-b253-83ce7defaf5a",
   "metadata": {},
   "source": [
    "## Part b: Do storms impact Citibike trips from all stations equally in NYC during 2013-2017?\n",
    "\n",
    "### 1) Leave out the stations with trips less than 10 to reduce bias\n",
    "\n",
    "### 2) Separate the stations into quartiles according to the number of trips\n",
    "\n",
    "### 3) Compute the mean of potential decrease in trip durations for quartiles of stations during storms"
   ]
  },
  {
   "cell_type": "markdown",
   "id": "203aa7b2-7bf4-4267-ba35-8300bab3e45d",
   "metadata": {},
   "source": [
    "#### Count the number of distinct stations affected under the storm"
   ]
  },
  {
   "cell_type": "code",
   "execution_count": 45,
   "id": "251d2af8-3d4d-44a5-917b-ec4127d7eb6a",
   "metadata": {},
   "outputs": [
    {
     "name": "stderr",
     "output_type": "stream",
     "text": [
      "                                                                                \r"
     ]
    },
    {
     "data": {
      "text/plain": [
       "678"
      ]
     },
     "execution_count": 45,
     "metadata": {},
     "output_type": "execute_result"
    }
   ],
   "source": [
    "df.select(['start_station_id']).distinct().count()"
   ]
  },
  {
   "cell_type": "markdown",
   "id": "3f75b828-1311-4964-9976-e9cf2b5a3f51",
   "metadata": {},
   "source": [
    "#### Create columns of avg and count to represent the average trip dutation and number of trip duration for the station that the trip belongs to\n",
    "\n",
    "#### Count the number of trips whose starting stations have number of trips larger than 10 during the storm"
   ]
  },
  {
   "cell_type": "code",
   "execution_count": 88,
   "id": "e828c57e-a68f-4626-8231-849ff56e662d",
   "metadata": {},
   "outputs": [
    {
     "ename": "ImportError",
     "evalue": "cannot import name 'median' from 'pyspark.sql.functions' (/usr/lib/spark/python/pyspark/sql/functions.py)",
     "output_type": "error",
     "traceback": [
      "\u001b[0;31m---------------------------------------------------------------------------\u001b[0m",
      "\u001b[0;31mImportError\u001b[0m                               Traceback (most recent call last)",
      "Cell \u001b[0;32mIn[88], line 2\u001b[0m\n\u001b[1;32m      1\u001b[0m \u001b[38;5;28;01mfrom\u001b[39;00m \u001b[38;5;21;01mpyspark\u001b[39;00m\u001b[38;5;21;01m.\u001b[39;00m\u001b[38;5;21;01msql\u001b[39;00m\u001b[38;5;21;01m.\u001b[39;00m\u001b[38;5;21;01mwindow\u001b[39;00m \u001b[38;5;28;01mimport\u001b[39;00m Window\n\u001b[0;32m----> 2\u001b[0m \u001b[38;5;28;01mfrom\u001b[39;00m \u001b[38;5;21;01mpyspark\u001b[39;00m\u001b[38;5;21;01m.\u001b[39;00m\u001b[38;5;21;01msql\u001b[39;00m\u001b[38;5;21;01m.\u001b[39;00m\u001b[38;5;21;01mfunctions\u001b[39;00m \u001b[38;5;28;01mimport\u001b[39;00m count,col,avg,\u001b[38;5;28msum\u001b[39m,\u001b[38;5;28mmin\u001b[39m,\u001b[38;5;28mmax\u001b[39m,ceil,median\n\u001b[1;32m      4\u001b[0m windowSpecAgg  \u001b[38;5;241m=\u001b[39m Window\u001b[38;5;241m.\u001b[39mpartitionBy(\u001b[38;5;124m\"\u001b[39m\u001b[38;5;124mstart_station_id\u001b[39m\u001b[38;5;124m\"\u001b[39m)\n\u001b[1;32m      5\u001b[0m df \u001b[38;5;241m=\u001b[39m df\u001b[38;5;241m.\u001b[39mwithColumn(\u001b[38;5;124m\"\u001b[39m\u001b[38;5;124mavg\u001b[39m\u001b[38;5;124m\"\u001b[39m, avg(col(\u001b[38;5;124m\"\u001b[39m\u001b[38;5;124mtripduration\u001b[39m\u001b[38;5;124m\"\u001b[39m))\u001b[38;5;241m.\u001b[39mover(windowSpecAgg)) \\\n\u001b[1;32m      6\u001b[0m   \u001b[38;5;241m.\u001b[39mwithColumn(\u001b[38;5;124m\"\u001b[39m\u001b[38;5;124mcount\u001b[39m\u001b[38;5;124m\"\u001b[39m, count(col(\u001b[38;5;124m\"\u001b[39m\u001b[38;5;124mtripduration\u001b[39m\u001b[38;5;124m\"\u001b[39m))\u001b[38;5;241m.\u001b[39mover(windowSpecAgg)) \\\n\u001b[1;32m      7\u001b[0m     \u001b[38;5;241m.\u001b[39mwithColumn(\u001b[38;5;124m\"\u001b[39m\u001b[38;5;124mmedian\u001b[39m\u001b[38;5;124m\"\u001b[39m, median(col(\u001b[38;5;124m\"\u001b[39m\u001b[38;5;124mtripduration\u001b[39m\u001b[38;5;124m\"\u001b[39m))\u001b[38;5;241m.\u001b[39mover(windowSpecAgg)) \\\n\u001b[1;32m      8\u001b[0m   \u001b[38;5;241m.\u001b[39mwhere(col(\u001b[38;5;124m\"\u001b[39m\u001b[38;5;124mcount\u001b[39m\u001b[38;5;124m\"\u001b[39m) \u001b[38;5;241m>\u001b[39m \u001b[38;5;241m10\u001b[39m)\n",
      "\u001b[0;31mImportError\u001b[0m: cannot import name 'median' from 'pyspark.sql.functions' (/usr/lib/spark/python/pyspark/sql/functions.py)"
     ]
    }
   ],
   "source": [
    "from pyspark.sql.window import Window\n",
    "from pyspark.sql.functions import count,col,avg,sum,min,max,ceil\n",
    "\n",
    "windowSpecAgg  = Window.partitionBy(\"start_station_id\")\n",
    "df = df.withColumn(\"count\", count(col(\"tripduration\")).over(windowSpecAgg)) \\\n",
    "  .where(col(\"count\") > 10)\n",
    "\n",
    "df.cache()\n",
    "df.count()"
   ]
  },
  {
   "cell_type": "code",
   "execution_count": 69,
   "id": "8256ec82-f1eb-4ade-a9bd-40f0a3598bdd",
   "metadata": {},
   "outputs": [
    {
     "name": "stdout",
     "output_type": "stream",
     "text": [
      "root\n",
      " |-- tripduration: long (nullable = true)\n",
      " |-- starttime: timestamp (nullable = true)\n",
      " |-- stoptime: timestamp (nullable = true)\n",
      " |-- start_station_id: long (nullable = true)\n",
      " |-- start_station_name: string (nullable = true)\n",
      " |-- start_station_latitude: double (nullable = true)\n",
      " |-- start_station_longitude: double (nullable = true)\n",
      " |-- episode_id: string (nullable = true)\n",
      " |-- event_id: string (nullable = true)\n",
      " |-- event_type: string (nullable = true)\n",
      " |-- event_begin_time: timestamp (nullable = true)\n",
      " |-- event_timezone: string (nullable = true)\n",
      " |-- event_end_time: timestamp (nullable = true)\n",
      " |-- event_latitude: double (nullable = true)\n",
      " |-- event_longitude: double (nullable = true)\n",
      " |-- event_duration_in_sec: long (nullable = true)\n",
      " |-- avg: double (nullable = true)\n",
      " |-- count: long (nullable = false)\n",
      "\n"
     ]
    }
   ],
   "source": [
    "df.printSchema()"
   ]
  },
  {
   "cell_type": "markdown",
   "id": "31d6ed42-e6cf-471d-88be-cc79a310273c",
   "metadata": {},
   "source": [
    "#### Count the number of stations with trips more than 10 during historical storm events"
   ]
  },
  {
   "cell_type": "code",
   "execution_count": 70,
   "id": "b48bc570-56c9-42a5-885f-d809d848a625",
   "metadata": {},
   "outputs": [
    {
     "name": "stderr",
     "output_type": "stream",
     "text": [
      "                                                                                \r"
     ]
    },
    {
     "data": {
      "text/plain": [
       "338"
      ]
     },
     "execution_count": 70,
     "metadata": {},
     "output_type": "execute_result"
    }
   ],
   "source": [
    "df.select(\"start_station_id\").where(col(\"count\") > 10).distinct().count()"
   ]
  },
  {
   "cell_type": "markdown",
   "id": "ae5f44f7-490d-4df7-9363-f25779d6deb5",
   "metadata": {},
   "source": [
    "#### The maximum number of trip for a station"
   ]
  },
  {
   "cell_type": "code",
   "execution_count": 73,
   "id": "7bfaf43b-6339-44f5-88be-b55ec196678f",
   "metadata": {},
   "outputs": [
    {
     "name": "stderr",
     "output_type": "stream",
     "text": [
      "                                                                                \r"
     ]
    },
    {
     "data": {
      "text/plain": [
       "188"
      ]
     },
     "execution_count": 73,
     "metadata": {},
     "output_type": "execute_result"
    }
   ],
   "source": [
    "max_count = df.select(col(\"count\")).orderBy(col(\"count\").desc()).collect()[0][0]\n",
    "max_count"
   ]
  },
  {
   "cell_type": "markdown",
   "id": "fe99fdad-345a-4ea6-8792-21fd5fe5ffd5",
   "metadata": {},
   "source": [
    "#### Find the cutoffs for the quartiles regarding number of trips"
   ]
  },
  {
   "cell_type": "code",
   "execution_count": 79,
   "id": "2cf1b98f-22ec-42c4-af3f-08ac8e2ed756",
   "metadata": {},
   "outputs": [
    {
     "name": "stderr",
     "output_type": "stream",
     "text": [
      "                                                                                \r"
     ]
    },
    {
     "data": {
      "text/plain": [
       "[44.0, 63.0, 85.0]"
      ]
     },
     "execution_count": 79,
     "metadata": {},
     "output_type": "execute_result"
    }
   ],
   "source": [
    "from pyspark.sql import DataFrameStatFunctions as statFunc\n",
    "\n",
    "quantiles = statFunc(df).approxQuantile(\"count\", [0.25, 0.5, 0.75], 0.0)\n",
    "q1, q2, q3 = quantiles\n",
    "\n",
    "quantiles"
   ]
  },
  {
   "cell_type": "markdown",
   "id": "5c47e12d-65be-417e-8f0b-f7ac7d70bc00",
   "metadata": {},
   "source": [
    "#### Find the quartiles by the number of trips during storm events"
   ]
  },
  {
   "cell_type": "code",
   "execution_count": 81,
   "id": "e2fa95e3-3d86-4b95-8906-5cbe7751f51e",
   "metadata": {},
   "outputs": [
    {
     "name": "stdout",
     "output_type": "stream",
     "text": [
      "root\n",
      " |-- tripduration: long (nullable = true)\n",
      " |-- starttime: timestamp (nullable = true)\n",
      " |-- stoptime: timestamp (nullable = true)\n",
      " |-- start_station_id: long (nullable = true)\n",
      " |-- start_station_name: string (nullable = true)\n",
      " |-- start_station_latitude: double (nullable = true)\n",
      " |-- start_station_longitude: double (nullable = true)\n",
      " |-- episode_id: string (nullable = true)\n",
      " |-- event_id: string (nullable = true)\n",
      " |-- event_type: string (nullable = true)\n",
      " |-- event_begin_time: timestamp (nullable = true)\n",
      " |-- event_timezone: string (nullable = true)\n",
      " |-- event_end_time: timestamp (nullable = true)\n",
      " |-- event_latitude: double (nullable = true)\n",
      " |-- event_longitude: double (nullable = true)\n",
      " |-- event_duration_in_sec: long (nullable = true)\n",
      " |-- avg: double (nullable = true)\n",
      " |-- count: long (nullable = false)\n",
      " |-- quartile: string (nullable = false)\n",
      "\n"
     ]
    }
   ],
   "source": [
    "from pyspark.sql.functions import col, when\n",
    "\n",
    "df = df.withColumn(\"quartile\",\n",
    "                            when(col(\"count\") <= q1, \"Q1\")\n",
    "                            .when((col(\"count\") > q1) & (col(\"count\") <= q2), \"Q2\")\n",
    "                            .when((col(\"count\") > q2) & (col(\"count\") <= q3), \"Q3\")\n",
    "                            .otherwise(\"Q4\"))\n",
    "df.printSchema()"
   ]
  },
  {
   "cell_type": "markdown",
   "id": "29a7e5a3-4818-4329-873f-244e98f82e4d",
   "metadata": {},
   "source": [
    "#### Median trip duration in each quartile"
   ]
  },
  {
   "cell_type": "code",
   "execution_count": 128,
   "id": "d1a8cdfc-bd72-4f3f-9206-9a027b7cc8fa",
   "metadata": {},
   "outputs": [
    {
     "name": "stderr",
     "output_type": "stream",
     "text": [
      "[Stage 345:==============================================>      (176 + 3) / 200]\r"
     ]
    },
    {
     "name": "stdout",
     "output_type": "stream",
     "text": [
      "+--------+----------+\n",
      "|quartile|median_dur|\n",
      "+--------+----------+\n",
      "|      Q1|       763|\n",
      "|      Q2|       670|\n",
      "|      Q3|       622|\n",
      "|      Q4|       676|\n",
      "+--------+----------+\n",
      "\n"
     ]
    },
    {
     "name": "stderr",
     "output_type": "stream",
     "text": [
      "                                                                                \r"
     ]
    }
   ],
   "source": [
    "from pyspark.sql.functions import sum, avg, max, count, col, percentile_approx\n",
    "\n",
    "quartile_group_df = df.groupBy(\"quartile\") \\\n",
    "    .agg(percentile_approx(\"tripduration\", 0.5).alias(\"median_dur\")) \\\n",
    "    .orderBy(col(\"quartile\").asc())\n",
    "\n",
    "quartile_group_df.show()"
   ]
  },
  {
   "cell_type": "code",
   "execution_count": 130,
   "id": "f6eb8180-6973-4334-9a12-1cee23853492",
   "metadata": {},
   "outputs": [
    {
     "name": "stderr",
     "output_type": "stream",
     "text": [
      "                                                                                \r"
     ]
    },
    {
     "data": {
      "image/png": "[encoded data removed]",
      "text/plain": [
       "<Figure size 640x480 with 1 Axes>"
      ]
     },
     "metadata": {},
     "output_type": "display_data"
    }
   ],
   "source": [
    "import matplotlib.pyplot as plt\n",
    "\n",
    "pandas_df = quartile_group_df.select(\"quartile\", \"median_dur\").toPandas()\n",
    "\n",
    "fig, ax = plt.subplots()\n",
    "\n",
    "# Set the x-axis and y-axis data\n",
    "bars = ax.bar(pandas_df['quartile'], pandas_df['median_dur'])\n",
    "\n",
    "# Set the labels for the x-axis and y-axis\n",
    "ax.set_xlabel('Quartile (based on number of trips)')\n",
    "ax.set_ylabel('Median Duration (in seconds)')\n",
    "\n",
    "# Set the title for the plot\n",
    "ax.set_title('Median NYC Citibike Trip Duration by Quartile During Storm Events')\n",
    "\n",
    "for bar in bars:\n",
    "    height = bar.get_height()\n",
    "    ax.text(bar.get_x() + bar.get_width() / 2, height, str(height), ha='center', va='bottom')\n",
    "\n",
    "\n",
    "# Show the plot\n",
    "plt.show()"
   ]
  },
  {
   "cell_type": "markdown",
   "id": "ed8e9a82-3da5-450d-ae14-4bedf5a99cce",
   "metadata": {},
   "source": [
    "#### Median trip duration in each quartile from the trips dataframe whether there is a storm or not"
   ]
  },
  {
   "cell_type": "code",
   "execution_count": 109,
   "id": "a16db4b0-a165-4663-9510-72a582f2e123",
   "metadata": {},
   "outputs": [
    {
     "name": "stderr",
     "output_type": "stream",
     "text": [
      "                                                                                \r"
     ]
    },
    {
     "data": {
      "text/plain": [
       "665"
      ]
     },
     "execution_count": 109,
     "metadata": {},
     "output_type": "execute_result"
    }
   ],
   "source": [
    "q1_id_rows = df.select(\"start_station_id\").where(col('quartile') == 'Q1').distinct().collect()\n",
    "q1_id_list = [row.start_station_id for row in q1_id_rows]\n",
    "\n",
    "filtered_trips = trips.where(col(\"start_station_id\").isin(q1_id_list))\n",
    "trips_q1_median_dur = filtered_trips.select(percentile_approx(\"tripduration\", 0.5)).collect()[0][0]\n",
    "\n",
    "trips_q1_median_dur"
   ]
  },
  {
   "cell_type": "code",
   "execution_count": 110,
   "id": "96374613-f6e5-49a0-9015-b543bcab0344",
   "metadata": {},
   "outputs": [
    {
     "name": "stderr",
     "output_type": "stream",
     "text": [
      "                                                                                \r"
     ]
    },
    {
     "data": {
      "text/plain": [
       "615"
      ]
     },
     "execution_count": 110,
     "metadata": {},
     "output_type": "execute_result"
    }
   ],
   "source": [
    "q2_id_rows = df.select(\"start_station_id\").where(col('quartile') == 'Q2').distinct().collect()\n",
    "q2_id_list = [row.start_station_id for row in q2_id_rows]\n",
    "\n",
    "filtered_trips = trips.where(col(\"start_station_id\").isin(q2_id_list))\n",
    "trips_q2_median_dur = filtered_trips.select(percentile_approx(\"tripduration\", 0.5)).collect()[0][0]\n",
    "\n",
    "trips_q2_median_dur"
   ]
  },
  {
   "cell_type": "code",
   "execution_count": 111,
   "id": "f7bdaa12-74fa-497c-b04e-1037fc6448db",
   "metadata": {},
   "outputs": [
    {
     "name": "stderr",
     "output_type": "stream",
     "text": [
      "                                                                                \r"
     ]
    },
    {
     "data": {
      "text/plain": [
       "592"
      ]
     },
     "execution_count": 111,
     "metadata": {},
     "output_type": "execute_result"
    }
   ],
   "source": [
    "q3_id_rows = df.select(\"start_station_id\").where(col('quartile') == 'Q3').distinct().collect()\n",
    "q3_id_list = [row.start_station_id for row in q3_id_rows]\n",
    "\n",
    "filtered_trips = trips.where(col(\"start_station_id\").isin(q3_id_list))\n",
    "trips_q3_median_dur = filtered_trips.select(percentile_approx(\"tripduration\", 0.5)).collect()[0][0]\n",
    "\n",
    "trips_q3_median_dur"
   ]
  },
  {
   "cell_type": "code",
   "execution_count": 112,
   "id": "b649a932-de7f-49e2-bc44-cfcc49e841ac",
   "metadata": {},
   "outputs": [
    {
     "name": "stderr",
     "output_type": "stream",
     "text": [
      "                                                                                \r"
     ]
    },
    {
     "data": {
      "text/plain": [
       "633"
      ]
     },
     "execution_count": 112,
     "metadata": {},
     "output_type": "execute_result"
    }
   ],
   "source": [
    "q4_id_rows = df.select(\"start_station_id\").where(col('quartile') == 'Q4').distinct().collect()\n",
    "q4_id_list = [row.start_station_id for row in q4_id_rows]\n",
    "\n",
    "filtered_trips = trips.where(col(\"start_station_id\").isin(q4_id_list))\n",
    "trips_q4_median_dur = filtered_trips.select(percentile_approx(\"tripduration\", 0.5)).collect()[0][0]\n",
    "\n",
    "trips_q4_median_dur"
   ]
  },
  {
   "cell_type": "code",
   "execution_count": 119,
   "id": "b2a60863-4f44-483f-b299-e1034f776c86",
   "metadata": {},
   "outputs": [
    {
     "name": "stderr",
     "output_type": "stream",
     "text": [
      "[Stage 291:======================================>                  (2 + 1) / 3]\r"
     ]
    },
    {
     "name": "stdout",
     "output_type": "stream",
     "text": [
      "+--------+----------+\n",
      "|quartile|median_dur|\n",
      "+--------+----------+\n",
      "|      Q1|       665|\n",
      "|      Q2|       615|\n",
      "|      Q3|       592|\n",
      "|      Q4|       633|\n",
      "+--------+----------+\n",
      "\n"
     ]
    },
    {
     "name": "stderr",
     "output_type": "stream",
     "text": [
      "                                                                                \r"
     ]
    }
   ],
   "source": [
    "data = [(\"Q1\", trips_q1_median_dur),\n",
    "        (\"Q2\", trips_q2_median_dur),\n",
    "        (\"Q3\", trips_q3_median_dur),\n",
    "        (\"Q4\", trips_q4_median_dur)]\n",
    "columns = [\"quartile\", \"median_dur\"]\n",
    "\n",
    "trips_median_dur_df = spark.createDataFrame(data, columns)\n",
    "trips_median_dur_df.show()"
   ]
  },
  {
   "cell_type": "code",
   "execution_count": 131,
   "id": "b2de17c6-2e02-4a66-bdc1-e6b9f2670c3f",
   "metadata": {},
   "outputs": [
    {
     "data": {
      "image/png": "[encoded data removed]",
      "text/plain": [
       "<Figure size 640x480 with 1 Axes>"
      ]
     },
     "metadata": {},
     "output_type": "display_data"
    }
   ],
   "source": [
    "import matplotlib.pyplot as plt\n",
    "\n",
    "pandas_df = trips_median_dur_df.select(\"quartile\", \"median_dur\").toPandas()\n",
    "\n",
    "fig, ax = plt.subplots()\n",
    "\n",
    "# Set the x-axis and y-axis data\n",
    "bars = ax.bar(pandas_df['quartile'], pandas_df['median_dur'])\n",
    "\n",
    "# Set the labels for the x-axis and y-axis\n",
    "ax.set_xlabel('Quartile (based on number of trips)')\n",
    "ax.set_ylabel('Median Duration (in seconds)')\n",
    "\n",
    "# Set the title for the plot\n",
    "ax.set_title('Median NYC Citibike Trip Duration by Quartile Overall')\n",
    "\n",
    "for bar in bars:\n",
    "    height = bar.get_height()\n",
    "    ax.text(bar.get_x() + bar.get_width() / 2, height, str(height), ha='center', va='bottom')\n",
    "\n",
    "\n",
    "# Show the plot\n",
    "plt.show()"
   ]
  },
  {
   "cell_type": "markdown",
   "id": "c71238d0-c092-4690-b1f1-efe99f97111c",
   "metadata": {},
   "source": [
    "## Conclusions of Part b: Do storms impact Citibike trips from all stations equally in NYC during 2013-2017?\n",
    "\n",
    "## 1) The storms did impact Citibike trips from all stations roughly equally in NYC during 2013-2017. \n",
    "\n",
    "### The number of Citibike stations that are potentially under the storm impacts in NYC is 678; after I left out stations with less than 10 trips, the number of stations was reduced to 338, still too large to be fit onto one graph. Therefore, In the data analysis, I defined the quartiles of bike stations by the number of trips starting from that station and get four divisions of bike stations. Besides, to view the average pattern in the quartiles of stations, I chose the median over mean, because the median of trip durations is less susceptible to outliers compared to the mean. \n",
    "\n",
    "### As we can see from the two bar plots together, whether during storms or overall, the four median Citibike trip durations remained in the same order: Q1 being the longest, Q4 being the second, Q2 being the third, and Q4 being the shortest. Besides, the four median bike trip durations all slightly increase during storm events compared to the results overall, which are kind of counter-intuitive at first but are left open to explanations. \n",
    "\n",
    "#### a) Self-selection of riders: During a severe storm, only a small subset of riders may choose to use Citibike. These riders may have higher tolerance for adverse weather conditions, have a stronger need to reach their destination, or be more experienced cyclists. As a result, they might take longer trips compared to the average user in normal weather conditions.\n",
    "\n",
    "#### b) Reduced alternatives: In severe storm conditions, public transportation such as subways and buses might experience delays, reduced frequency, or even temporary shutdowns. Taxis and rideshares might also be less available or have higher prices due to increased demand. This could lead some people to choose Citibike as a mode of transportation and take longer trips than they would otherwise.\n",
    "\n",
    "#### c) Navigational challenges: During a severe storm, visibility may be reduced, streets might be flooded, and there may be fallen trees or debris blocking the usual routes. Riders might need to take detours or travel at a slower pace, leading to longer trip durations.\n",
    "\n",
    "#### d) Availability of bikes and docking stations: Due to fewer people using Citibike during severe storms, bikes and docking stations might be more available, making it more convenient for users to take longer trips without worrying about finding a docking station at their destination.\n",
    "\n",
    "## 2) The two longest median Citibike trip durations came from stations with the lowest and highest number of trips. And this discovery can be explained in several different ways.\n",
    "\n",
    "#### a) Station location and demographics: Stations with the lowest number of bike trips might be located in less densely populated areas or areas with fewer points of interest, such as parks or recreational facilities. Users starting their trips from these stations may be more likely to engage in leisurely activities or longer exercise routines, leading to longer trip durations. On the other hand, stations with the highest number of bike trips might be located in busy urban areas, close to popular destinations, where people are more likely to use Citibike for commuting or running errands. These users might take slightly longer trips to reach their destinations due to factors like traffic, congestion, or longer distances between points of interest.\n",
    "\n",
    "#### b) Availability of bikes and docking stations: Stations with a lower number of bike trips might have higher availability of bikes and docking stations. This could encourage users to take longer trips without worrying about finding a docking station at their destination. Conversely, stations with a higher number of bike trips might have limited availability of bikes and docking stations. Users starting their trips from these stations might be more inclined to take longer trips to avoid the hassle of finding a docking station in a congested area."
   ]
  },
  {
   "cell_type": "code",
   "execution_count": null,
   "id": "51419dda-7004-47e0-bdd8-e0978815d387",
   "metadata": {},
   "outputs": [],
   "source": []
  },
  {
   "cell_type": "code",
   "execution_count": null,
   "id": "a3460e7a-b6be-4c2b-8f65-22ebe77bd305",
   "metadata": {},
   "outputs": [],
   "source": []
  },
  {
   "cell_type": "code",
   "execution_count": null,
   "id": "e4fff637-9415-421c-97ff-08d31d15dc92",
   "metadata": {},
   "outputs": [],
   "source": []
  },
  {
   "cell_type": "code",
   "execution_count": null,
   "id": "eaaa7928-3b81-4429-8212-d6378483cf29",
   "metadata": {},
   "outputs": [],
   "source": []
  },
  {
   "cell_type": "code",
   "execution_count": null,
   "id": "e56605bc-db2a-434d-bd4a-ea85b8116e17",
   "metadata": {},
   "outputs": [],
   "source": []
  }
 ],
 "metadata": {
  "kernelspec": {
   "display_name": "PySpark",
   "language": "python",
   "name": "pyspark"
  },
  "language_info": {
   "codemirror_mode": {
    "name": "ipython",
    "version": 3
   },
   "file_extension": ".py",
   "mimetype": "text/x-python",
   "name": "python",
   "nbconvert_exporter": "python",
   "pygments_lexer": "ipython3",
   "version": "3.8.15"
  }
 },
 "nbformat": 4,
 "nbformat_minor": 5
}